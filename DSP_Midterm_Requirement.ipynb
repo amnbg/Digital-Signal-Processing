{
  "nbformat": 4,
  "nbformat_minor": 0,
  "metadata": {
    "colab": {
      "provenance": [],
      "include_colab_link": true
    },
    "kernelspec": {
      "name": "python3",
      "display_name": "Python 3"
    },
    "language_info": {
      "name": "python"
    }
  },
  "cells": [
    {
      "cell_type": "markdown",
      "metadata": {
        "id": "view-in-github",
        "colab_type": "text"
      },
      "source": [
        "<a href=\"https://colab.research.google.com/github/amnbg/Digital-Signal-Processing/blob/main/DSP_Midterm_Requirement.ipynb\" target=\"_parent\"><img src=\"https://colab.research.google.com/assets/colab-badge.svg\" alt=\"Open In Colab\"/></a>"
      ]
    },
    {
      "cell_type": "markdown",
      "source": [
        "#ESP32 Code"
      ],
      "metadata": {
        "id": "jehGdZ4_IW0G"
      }
    },
    {
      "cell_type": "code",
      "execution_count": null,
      "metadata": {
        "id": "KJtY0GNo-82Y"
      },
      "outputs": [],
      "source": [
        "#include \"WiFi.h\"\n",
        "#include <HTTPClient.h>\n",
        "#include \"time.h\"\n",
        "#include \"DHT.h\"\n",
        "\n",
        "#define DHTPIN 23\n",
        "#define DHTTYPE DHT11\n",
        "\n",
        "const char* ntpServer1 = \"pool.ntp.org\";\n",
        "const char* ntpServer2 = \"time.nist.gov\";\n",
        "const long gmtOffset_sec = 28800;\n",
        "const int daylightOffset_sec = 0;\n",
        "float h = 0.0;\n",
        "float t = 0.0;\n",
        "\n",
        "char ssid[] = \"HUAWEI-X57F\";\n",
        "char password[] = \"kamotebbq\";\n",
        "\n",
        "DHT dht(23, DHT11);\n",
        "\n",
        "String GOOGLE_SCRIPT_ID = \"AKfycbwT9XBW5Q4AXvwUSoeKO9rUhsnPGwFz4dSwfun76MdMgR9FwJVhn_IezhAGCLKnzqY4yg\";\n",
        "\n",
        "void setup() {\n",
        "\n",
        "  delay(1000);\n",
        "  Serial.begin(115200);\n",
        "  dht.begin();\n",
        "  delay(1000);\n",
        "  Serial.println();\n",
        "  Serial.print(\"Connecting to wifi: \");\n",
        "  Serial.println(ssid);\n",
        "  WiFi.begin(ssid, password);\n",
        "  while (WiFi.status() != WL_CONNECTED) {\n",
        "    delay(500);\n",
        "    Serial.print(\".\");\n",
        "\n",
        "  }\n",
        "  configTime(gmtOffset_sec, daylightOffset_sec, ntpServer1, ntpServer2);\n",
        "}\n",
        "\n",
        "void loop() {\n",
        "  if (WiFi.status() == WL_CONNECTED) {\n",
        "    SendDataToGoogleSheets();\n",
        "  }\n",
        "}\n",
        "\n",
        "void SendDataToGoogleSheets() {\n",
        "  // Read data from the DHT sensor\n",
        "  float humi = dht.readHumidity();\n",
        "  float temp = dht.readTemperature();\n",
        "\n",
        "  if (isnan(humi) || isnan(temp)) {\n",
        "    Serial.println(F(\"Failed to read from DHT sensor!\"));\n",
        "    return;\n",
        "  }\n",
        "\n",
        "  h = humi;\n",
        "  t = temp;\n",
        "\n",
        "  Serial.print(F(\"Humidity: \"));\n",
        "  Serial.print(h);\n",
        "  Serial.print(F(\"%  Temperature: \"));\n",
        "  Serial.print(t);\n",
        "  Serial.print(F(\"°C \"));\n",
        "\n",
        "  // Get the current time\n",
        "  struct tm timeinfo;\n",
        "  if (!getLocalTime(&timeinfo)) {\n",
        "    Serial.println(\"Failed to obtain time\");\n",
        "    return;\n",
        "  } else {\n",
        "    char timeStringBuff[50];\n",
        "    strftime(timeStringBuff, sizeof(timeStringBuff), \"%m/%d/%Y_%H:%M:%S\", &timeinfo);\n",
        "    String asString(timeStringBuff);\n",
        "    Serial.print(\"Time:\");\n",
        "    Serial.println(asString);\n",
        "\n",
        "    // Create the URL for the Google Sheets script\n",
        "    String urlFinal = \"https://script.google.com/macros/s/\" + GOOGLE_SCRIPT_ID + \"/exec?\" +\n",
        "                     \"date=\" + asString + \"&humi=\" + String(h) + \"&temp=\" + String(t);\n",
        "    Serial.print(\"POST data to spreadsheet:\");\n",
        "    Serial.println(urlFinal);\n",
        "\n",
        "    // Send the data to Google Sheets\n",
        "    HTTPClient http;\n",
        "    http.begin(urlFinal.c_str());\n",
        "    http.setFollowRedirects(HTTPC_STRICT_FOLLOW_REDIRECTS);\n",
        "    int httpCode = http.GET();\n",
        "    Serial.print(\"HTTP Status Code: \");\n",
        "    Serial.println(httpCode);\n",
        "\n",
        "    if (httpCode == 200) {\n",
        "      delay(2000);\n",
        "    }\n",
        "    http.end();\n",
        "    delay(595500);\n",
        "  }\n",
        "}"
      ]
    },
    {
      "cell_type": "markdown",
      "source": [
        "#Google AppScript Code"
      ],
      "metadata": {
        "id": "6a6WJlgFIdVV"
      }
    },
    {
      "cell_type": "code",
      "source": [
        "var sheet_id = \"1K0HeLmNkuk8qPa9J_hGO_KfmOzI1fnbaPE4wIE8y6JM\";\n",
        "var sheet_name = \"Sheet1\";\n",
        "function doGet(e){\n",
        "var ss = SpreadsheetApp.openById(sheet_id);\n",
        "var sheet = ss.getSheetByName(sheet_name);\n",
        "var humi = String(e.parameter.humi);\n",
        "var temp = String(e.parameter.temp);\n",
        "var date = String(e.parameter.date);\n",
        "sheet.appendRow([date,humi,temp]);\n",
        "}"
      ],
      "metadata": {
        "id": "smRPqP9nIhi3"
      },
      "execution_count": null,
      "outputs": []
    }
  ]
}